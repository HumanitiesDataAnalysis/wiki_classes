{
 "cells": [
  {
   "cell_type": "code",
   "execution_count": 1,
   "id": "2a82e82c-dfe1-4f32-9bf6-5adab68c2e51",
   "metadata": {},
   "outputs": [],
   "source": [
    "%load_ext autoreload\n",
    "%autoreload 2"
   ]
  },
  {
   "cell_type": "code",
   "execution_count": 4,
   "id": "03123bb6-4cd0-4b76-af8e-e1d407df530a",
   "metadata": {},
   "outputs": [],
   "source": [
    "from wiki_classes import Wikipedia, Article"
   ]
  },
  {
   "cell_type": "code",
   "execution_count": 7,
   "id": "9f5ae5be-e55f-40f0-8a9d-36a6e6ceff0b",
   "metadata": {},
   "outputs": [],
   "source": [
    "wiki = Wikipedia()"
   ]
  },
  {
   "cell_type": "code",
   "execution_count": 73,
   "id": "640cbfbd-fe12-4716-99ec-72d0d09e667d",
   "metadata": {},
   "outputs": [
    {
     "name": "stdout",
     "output_type": "stream",
     "text": [
      "<wiki_classes.article.Article object at 0x7fb1d0deb730>\n"
     ]
    }
   ],
   "source": [
    "for article in wiki:\n",
    "    print(article)\n",
    "    break"
   ]
  },
  {
   "cell_type": "code",
   "execution_count": 76,
   "id": "3fb9bdab-750d-42b0-8292-7c9fd97322db",
   "metadata": {},
   "outputs": [
    {
     "name": "stdout",
     "output_type": "stream",
     "text": [
      "#REDIRECT [[Computer accessibility]]\n",
      "{{rcat shell|\n",
      "{{R from move}}\n",
      "{{R from CamelCase}}\n",
      "{{R unprintworthy}}\n",
      "}\n"
     ]
    }
   ],
   "source": [
    "print(article.text[:130])"
   ]
  },
  {
   "cell_type": "code",
   "execution_count": 67,
   "id": "afc3bcd4-1b5d-477d-8988-aa684a854929",
   "metadata": {},
   "outputs": [
    {
     "ename": "TypeError",
     "evalue": "'duckdb.DuckDBPyConnection' object is not iterable",
     "output_type": "error",
     "traceback": [
      "\u001b[0;31m---------------------------------------------------------------------------\u001b[0m",
      "\u001b[0;31mTypeError\u001b[0m                                 Traceback (most recent call last)",
      "\u001b[0;32m<ipython-input-67-6bc70fccc81d>\u001b[0m in \u001b[0;36m<module>\u001b[0;34m\u001b[0m\n\u001b[0;32m----> 1\u001b[0;31m \u001b[0;32mfor\u001b[0m \u001b[0mart\u001b[0m \u001b[0;32min\u001b[0m \u001b[0marticles\u001b[0m\u001b[0;34m:\u001b[0m\u001b[0;34m\u001b[0m\u001b[0;34m\u001b[0m\u001b[0m\n\u001b[0m\u001b[1;32m      2\u001b[0m     \u001b[0mprint\u001b[0m\u001b[0;34m(\u001b[0m\u001b[0mart\u001b[0m\u001b[0;34m)\u001b[0m\u001b[0;34m\u001b[0m\u001b[0;34m\u001b[0m\u001b[0m\n",
      "\u001b[0;31mTypeError\u001b[0m: 'duckdb.DuckDBPyConnection' object is not iterable"
     ]
    }
   ],
   "source": [
    "f"
   ]
  },
  {
   "cell_type": "code",
   "execution_count": null,
   "id": "5e622601-7e87-4dc6-90ea-36f580a6d9de",
   "metadata": {},
   "outputs": [],
   "source": []
  }
 ],
 "metadata": {
  "kernelspec": {
   "display_name": "Python 3",
   "language": "python",
   "name": "python3"
  },
  "language_info": {
   "codemirror_mode": {
    "name": "ipython",
    "version": 3
   },
   "file_extension": ".py",
   "mimetype": "text/x-python",
   "name": "python",
   "nbconvert_exporter": "python",
   "pygments_lexer": "ipython3",
   "version": "3.8.5"
  }
 },
 "nbformat": 4,
 "nbformat_minor": 5
}
