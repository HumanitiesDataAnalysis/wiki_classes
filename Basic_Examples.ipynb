{
 "cells": [
  {
   "cell_type": "code",
   "execution_count": 7,
   "id": "2a82e82c-dfe1-4f32-9bf6-5adab68c2e51",
   "metadata": {},
   "outputs": [
    {
     "name": "stdout",
     "output_type": "stream",
     "text": [
      "The autoreload extension is already loaded. To reload it, use:\n",
      "  %reload_ext autoreload\n"
     ]
    }
   ],
   "source": [
    "%load_ext autoreload\n",
    "%autoreload 2"
   ]
  },
  {
   "cell_type": "code",
   "execution_count": 2,
   "id": "03123bb6-4cd0-4b76-af8e-e1d407df530a",
   "metadata": {},
   "outputs": [],
   "source": [
    "from wiki_classes import Wikipedia, Article"
   ]
  },
  {
   "cell_type": "code",
   "execution_count": null,
   "metadata": {},
   "outputs": [],
   "source": []
  },
  {
   "cell_type": "code",
   "execution_count": 9,
   "id": "9f5ae5be-e55f-40f0-8a9d-36a6e6ceff0b",
   "metadata": {},
   "outputs": [],
   "source": [
    "wiki = Wikipedia()"
   ]
  },
  {
   "cell_type": "code",
   "execution_count": 10,
   "id": "640cbfbd-fe12-4716-99ec-72d0d09e667d",
   "metadata": {},
   "outputs": [
    {
     "name": "stdout",
     "output_type": "stream",
     "text": [
      "<wiki_classes.article.Article object at 0x7f76202036a0>\n"
     ]
    }
   ],
   "source": [
    "for article in wiki.make_collection(words = [\"oboe\", \"Oboe\", \"Bassoon\", \"bassoon\", \"bagpipe\"]):\n",
    "    print(article)\n",
    "    break"
   ]
  },
  {
   "cell_type": "code",
   "execution_count": 11,
   "id": "3fb9bdab-750d-42b0-8292-7c9fd97322db",
   "metadata": {},
   "outputs": [
    {
     "name": "stdout",
     "output_type": "stream",
     "text": [
      "{{short description|Nigerian soldier and statesman}}{{Use dmy dates|date=November 2020}}\n",
      "{{Infobox officeholder\n",
      "| name            \n"
     ]
    }
   ],
   "source": [
    "print(article.text[:130])"
   ]
  },
  {
   "cell_type": "code",
   "execution_count": 6,
   "id": "afc3bcd4-1b5d-477d-8988-aa684a854929",
   "metadata": {},
   "outputs": [
    {
     "data": {
      "text/plain": [
       "<wiki_classes.article.Article at 0x7f762129a220>"
      ]
     },
     "execution_count": 6,
     "metadata": {},
     "output_type": "execute_result"
    }
   ],
   "source": [
    "wiki.get_article(\"United States of America\")"
   ]
  },
  {
   "cell_type": "code",
   "execution_count": null,
   "id": "5e622601-7e87-4dc6-90ea-36f580a6d9de",
   "metadata": {},
   "outputs": [],
   "source": []
  }
 ],
 "metadata": {
  "interpreter": {
   "hash": "c9f20c1295768b54fc082fe97777c609ec37daff01724694a722460d6bf3f786"
  },
  "kernelspec": {
   "display_name": "Python 3.8.11 64-bit ('nonconsumptive': conda)",
   "name": "python3"
  },
  "language_info": {
   "codemirror_mode": {
    "name": "ipython",
    "version": 3
   },
   "file_extension": ".py",
   "mimetype": "text/x-python",
   "name": "python",
   "nbconvert_exporter": "python",
   "pygments_lexer": "ipython3",
   "version": "3.8.11"
  }
 },
 "nbformat": 4,
 "nbformat_minor": 5
}
