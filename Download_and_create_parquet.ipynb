{
 "cells": [
  {
   "cell_type": "markdown",
   "id": "244cf2fb-d641-4e95-a505-a313454191f8",
   "metadata": {},
   "source": [
    "# Downloading\n",
    "\n",
    "This downloads as many wikipedia pages as you can stand, one at a time, and then runs some code over those xml dumps to turn them into a tabular format called 'parquet' that is much faster to work with than "
   ]
  },
  {
   "cell_type": "code",
   "execution_count": 3,
   "id": "dc92b89b-1126-4ac9-8fce-d237310ba3ee",
   "metadata": {},
   "outputs": [],
   "source": [
    "import urllib.request\n",
    "from pathlib import Path"
   ]
  },
  {
   "cell_type": "code",
   "execution_count": 4,
   "id": "e7c8417c-0ab5-44c2-a8bd-4a9729d56330",
   "metadata": {},
   "outputs": [],
   "source": [
    "wikipedia_index = urllib.request.urlopen(\"https://dumps.wikimedia.org/enwiki/20211020/\").read().decode(\"utf-8\")"
   ]
  },
  {
   "cell_type": "code",
   "execution_count": 6,
   "id": "725cc5ef-9d58-4f28-8ac4-67ae027747a8",
   "metadata": {},
   "outputs": [],
   "source": [
    "import re\n",
    "pages = re.findall(\"/enwiki/20211020/enwiki-20211020-pages-articles-multistream[0-9]+.xml-p[0-9]+p[0-9]+.bz2\", wikipedia_index)\n",
    "for page in pages[:6]:\n",
    "    link = \"https://dumps.wikimedia.org/\" + page\n",
    "#    print(\"Downloading \" + page)\n",
    "    destination_file = Path(page.split(\"/\")[-1])\n",
    "    if destination_file.exists():\n",
    "        # Download re-download.\n",
    "        continue\n",
    "    print(\"to \", destination_file)        \n",
    "    urllib.request.urlretrieve(link, page.split(\"/\")[-1])"
   ]
  },
  {
   "cell_type": "code",
   "execution_count": 7,
   "id": "333ac9af-1aed-4211-9b0a-ba51020dff7e",
   "metadata": {},
   "outputs": [],
   "source": [
    "import bz2"
   ]
  },
  {
   "cell_type": "code",
   "execution_count": null,
   "id": "248afae1-daa9-4a82-90c4-d897a09ead0b",
   "metadata": {},
   "outputs": [],
   "source": []
  },
  {
   "cell_type": "code",
   "execution_count": 14,
   "id": "d933647c-043a-49dd-8f05-dc29d07e6db8",
   "metadata": {},
   "outputs": [
    {
     "name": "stdout",
     "output_type": "stream",
     "text": [
      "enwiki-20211020-pages-articles-multistream6.xml-p958046p1483661.bz2\n",
      "enwiki-20211020-pages-articles-multistream2.xml-p41243p151573.bz2\n"
     ]
    }
   ],
   "source": [
    "for p in Path(\".\").glob(\"*.bz2\"):\n",
    "    print(p)\n",
    "    dest = p.with_suffix(\".parquet\")\n",
    "    if dest.exists() or \"pageviews\" in dest.name:\n",
    "        continue\n",
    "\n",
    "    f = bz2.open(p)\n",
    "\n",
    "    i = 0\n",
    "    pages = []\n",
    "\n",
    "    currently_flushing_to_text = False\n",
    "    for line in f:\n",
    "        if i % 10_000 == 0:\n",
    "            print(\"line \", i, end = \"\\r\")    \n",
    "        i += 1\n",
    "        if line == b'  <page>\\n':\n",
    "            title = None\n",
    "            last_edit = None\n",
    "            id = None\n",
    "            redirect = None\n",
    "            article_text = b\"\"\n",
    "        elif line == b'  </page>\\n':        \n",
    "            currently_flushing_to_text = False\n",
    "            pages.append((title, last_edit, article_text.decode(\"utf-8\", \"ignore\"), id, redirect))\n",
    "            if (len(pages) % 100) == 0:\n",
    "                print(f\"                                      {len(pages)} pages\", end = \"\\r\")\n",
    "        elif currently_flushing_to_text:\n",
    "            if line.endswith(b'</text>\\n'):\n",
    "                currently_flushing_to_text = False\n",
    "                # Drop the end-of-article code.\n",
    "                line = line[:-9]\n",
    "            article_text += line\n",
    "        else:\n",
    "            title_match = re.findall(b'^    <title>(.*)</title>\\n', line)\n",
    "            if title_match:\n",
    "                title = title_match[0]\n",
    "                continue\n",
    "            redirect_match = re.findall(b'^    <redirect title=\"(.*)\" />\\n', line)\n",
    "            if redirect_match:\n",
    "                redirect = redirect_match[0]\n",
    "                continue\n",
    "            id_match = re.findall(b'^    <id>([0-9]+)</id>\\n', line)\n",
    "            if id_match:\n",
    "                id = int(id_match[0])\n",
    "                continue\n",
    "            timestamp_match = re.findall(b'^      <timestamp>(.*)</timestamp>\\n', line)\n",
    "            if timestamp_match:\n",
    "                last_edit = timestamp_match[0]\n",
    "                continue\n",
    "            textstart_match = re.findall(b'^      <text[^>]+>(.*)', line)\n",
    "            if textstart_match:\n",
    "                article_text = textstart_match[0]\n",
    "                currently_flushing_to_text = True\n",
    "\n",
    "    # Now we need to get it out into a more manageable format. For this I use the pyarrow library. This \n",
    "    # is a little more idiosyncratic--most people would use pandas foir this.\n",
    "\n",
    "    import pyarrow as pa\n",
    "    from pyarrow import parquet as pq\n",
    "    titles, edit_dates, article_texts, ids, redirects = zip(*pages)\n",
    "    tab = pa.table({\n",
    "        \"titles\": pa.array(titles, pa.string()),\n",
    "        \"edited\": pa.array(edit_dates, pa.string()),\n",
    "        \"id\": pa.array(ids),\n",
    "        \"text\": pa.array(article_texts, pa.string()),\n",
    "        \"redirects\": pa.array(redirects, pa.string())\n",
    "    })\n",
    "    # Use some heavy-duty modern compression.\n",
    "    pq.write_table(tab, dest, compression = \"ZSTD\", compression_level = 7)"
   ]
  },
  {
   "cell_type": "code",
   "execution_count": null,
   "id": "336cf075-aad0-4bdb-9322-93325186aa82",
   "metadata": {},
   "outputs": [],
   "source": []
  },
  {
   "cell_type": "code",
   "execution_count": null,
   "id": "013d466a-ff92-4574-a22a-d9b049fb64b1",
   "metadata": {},
   "outputs": [],
   "source": [
    "pip "
   ]
  },
  {
   "cell_type": "code",
   "execution_count": 12,
   "id": "a93b969b-5020-4861-bfaa-cb55f2d4ff03",
   "metadata": {},
   "outputs": [
    {
     "ename": "ModuleNotFoundError",
     "evalue": "No module named 'duckdb'",
     "output_type": "error",
     "traceback": [
      "\u001b[0;31m---------------------------------------------------------------------------\u001b[0m",
      "\u001b[0;31mModuleNotFoundError\u001b[0m                       Traceback (most recent call last)",
      "\u001b[0;32m/var/folders/32/kljptc3d7_vgm80m4l25vh6c0000gn/T/ipykernel_47115/2991672974.py\u001b[0m in \u001b[0;36m<module>\u001b[0;34m\u001b[0m\n\u001b[0;32m----> 1\u001b[0;31m \u001b[0;32mimport\u001b[0m \u001b[0mduckdb\u001b[0m\u001b[0;34m\u001b[0m\u001b[0;34m\u001b[0m\u001b[0m\n\u001b[0m",
      "\u001b[0;31mModuleNotFoundError\u001b[0m: No module named 'duckdb'"
     ]
    }
   ],
   "source": [
    "import duckdb"
   ]
  },
  {
   "cell_type": "code",
   "execution_count": null,
   "id": "98ffa778-ac67-4dd5-86e6-becfd9a87460",
   "metadata": {},
   "outputs": [
    {
     "data": {
      "text/plain": [
       "<duckdb.DuckDBPyConnection at 0x7f958039aa70>"
      ]
     },
     "execution_count": 145,
     "metadata": {},
     "output_type": "execute_result"
    }
   ],
   "source": [
    "con = duckdb.connect(\":memory:\")\n"
   ]
  },
  {
   "cell_type": "code",
   "execution_count": 146,
   "id": "ff051f13-750d-4aeb-8994-28e7f42a68a6",
   "metadata": {},
   "outputs": [
    {
     "data": {
      "text/html": [
       "<div>\n",
       "<style scoped>\n",
       "    .dataframe tbody tr th:only-of-type {\n",
       "        vertical-align: middle;\n",
       "    }\n",
       "\n",
       "    .dataframe tbody tr th {\n",
       "        vertical-align: top;\n",
       "    }\n",
       "\n",
       "    .dataframe thead th {\n",
       "        text-align: right;\n",
       "    }\n",
       "</style>\n",
       "<table border=\"1\" class=\"dataframe\">\n",
       "  <thead>\n",
       "    <tr style=\"text-align: right;\">\n",
       "      <th></th>\n",
       "      <th>t</th>\n",
       "      <th>titles</th>\n",
       "      <th>edited</th>\n",
       "      <th>id</th>\n",
       "      <th>text</th>\n",
       "      <th>redirects</th>\n",
       "    </tr>\n",
       "  </thead>\n",
       "  <tbody>\n",
       "    <tr>\n",
       "      <th>0</th>\n",
       "      <td>375115</td>\n",
       "      <td>Apple Inc.</td>\n",
       "      <td>2021-10-19T14:40:56Z</td>\n",
       "      <td>856</td>\n",
       "      <td>{{Short description|American multinational tec...</td>\n",
       "      <td>NaN</td>\n",
       "    </tr>\n",
       "    <tr>\n",
       "      <th>1</th>\n",
       "      <td>375630</td>\n",
       "      <td>Italy</td>\n",
       "      <td>2021-10-18T17:10:27Z</td>\n",
       "      <td>14532</td>\n",
       "      <td>{{short description|Country in Southern Europe...</td>\n",
       "      <td>NaN</td>\n",
       "    </tr>\n",
       "    <tr>\n",
       "      <th>2</th>\n",
       "      <td>372382</td>\n",
       "      <td>Foreign relations of India</td>\n",
       "      <td>2021-10-15T13:49:04Z</td>\n",
       "      <td>14604</td>\n",
       "      <td>{{Short description|Overview of the foreign re...</td>\n",
       "      <td>NaN</td>\n",
       "    </tr>\n",
       "    <tr>\n",
       "      <th>3</th>\n",
       "      <td>402442</td>\n",
       "      <td>Pakistan</td>\n",
       "      <td>2021-10-15T09:05:39Z</td>\n",
       "      <td>23235</td>\n",
       "      <td>{{short description|Country in South Asia}}{{a...</td>\n",
       "      <td>NaN</td>\n",
       "    </tr>\n",
       "    <tr>\n",
       "      <th>4</th>\n",
       "      <td>380887</td>\n",
       "      <td>2000s</td>\n",
       "      <td>2021-10-19T16:57:03Z</td>\n",
       "      <td>34579</td>\n",
       "      <td>{{Cleanup bare URLs|date=September 2021}}{{sho...</td>\n",
       "      <td>NaN</td>\n",
       "    </tr>\n",
       "    <tr>\n",
       "      <th>5</th>\n",
       "      <td>389819</td>\n",
       "      <td>History of Australia</td>\n",
       "      <td>2021-10-19T10:10:32Z</td>\n",
       "      <td>39582</td>\n",
       "      <td>{{short description|Australian history}}{{pp-s...</td>\n",
       "      <td>NaN</td>\n",
       "    </tr>\n",
       "    <tr>\n",
       "      <th>6</th>\n",
       "      <td>386344</td>\n",
       "      <td>List of Puerto Ricans</td>\n",
       "      <td>2021-10-19T14:55:47Z</td>\n",
       "      <td>87732</td>\n",
       "      <td>{{Short description|Wikipedia list article}}{{...</td>\n",
       "      <td>NaN</td>\n",
       "    </tr>\n",
       "    <tr>\n",
       "      <th>7</th>\n",
       "      <td>459839</td>\n",
       "      <td>List of suicides</td>\n",
       "      <td>2021-10-17T20:06:12Z</td>\n",
       "      <td>143848</td>\n",
       "      <td>{{short description|Wikimedia list article}}{{...</td>\n",
       "      <td>NaN</td>\n",
       "    </tr>\n",
       "    <tr>\n",
       "      <th>8</th>\n",
       "      <td>429162</td>\n",
       "      <td>List of municipalities in Michigan</td>\n",
       "      <td>2021-10-09T21:49:38Z</td>\n",
       "      <td>236034</td>\n",
       "      <td>{{short description|List}}[[File:Michigan in U...</td>\n",
       "      <td>NaN</td>\n",
       "    </tr>\n",
       "    <tr>\n",
       "      <th>9</th>\n",
       "      <td>525586</td>\n",
       "      <td>Wikipedia:Upload log archive/May 2003</td>\n",
       "      <td>2016-11-05T13:38:54Z</td>\n",
       "      <td>239814</td>\n",
       "      <td>==[[Wikipedia:Upload log]] archive for May 200...</td>\n",
       "      <td>NaN</td>\n",
       "    </tr>\n",
       "  </tbody>\n",
       "</table>\n",
       "</div>"
      ],
      "text/plain": [
       "        t                                 titles                edited  \\\n",
       "0  375115                             Apple Inc.  2021-10-19T14:40:56Z   \n",
       "1  375630                                  Italy  2021-10-18T17:10:27Z   \n",
       "2  372382             Foreign relations of India  2021-10-15T13:49:04Z   \n",
       "3  402442                               Pakistan  2021-10-15T09:05:39Z   \n",
       "4  380887                                  2000s  2021-10-19T16:57:03Z   \n",
       "5  389819                   History of Australia  2021-10-19T10:10:32Z   \n",
       "6  386344                  List of Puerto Ricans  2021-10-19T14:55:47Z   \n",
       "7  459839                       List of suicides  2021-10-17T20:06:12Z   \n",
       "8  429162     List of municipalities in Michigan  2021-10-09T21:49:38Z   \n",
       "9  525586  Wikipedia:Upload log archive/May 2003  2016-11-05T13:38:54Z   \n",
       "\n",
       "       id                                               text redirects  \n",
       "0     856  {{Short description|American multinational tec...       NaN  \n",
       "1   14532  {{short description|Country in Southern Europe...       NaN  \n",
       "2   14604  {{Short description|Overview of the foreign re...       NaN  \n",
       "3   23235  {{short description|Country in South Asia}}{{a...       NaN  \n",
       "4   34579  {{Cleanup bare URLs|date=September 2021}}{{sho...       NaN  \n",
       "5   39582  {{short description|Australian history}}{{pp-s...       NaN  \n",
       "6   87732  {{Short description|Wikipedia list article}}{{...       NaN  \n",
       "7  143848  {{short description|Wikimedia list article}}{{...       NaN  \n",
       "8  236034  {{short description|List}}[[File:Michigan in U...       NaN  \n",
       "9  239814  ==[[Wikipedia:Upload log]] archive for May 200...       NaN  "
      ]
     },
     "execution_count": 146,
     "metadata": {},
     "output_type": "execute_result"
    }
   ],
   "source": [
    "#con.execute(\"SELECT titles FROM wiki WHERE text LIKE '%a city in%' LIMIT 10000\").df()\n",
    "con.execute(\"SELECT LEN(text) AS t, * FROM wiki WHERE LEN(text) > 370000 LIMIT 10\").df()"
   ]
  },
  {
   "cell_type": "code",
   "execution_count": null,
   "id": "da7f5167-4d7d-416f-abe4-e0a72f4101bc",
   "metadata": {},
   "outputs": [],
   "source": []
  },
  {
   "cell_type": "code",
   "execution_count": null,
   "id": "e555e565-314d-4fb8-aff4-9705508b67d6",
   "metadata": {},
   "outputs": [],
   "source": []
  }
 ],
 "metadata": {
  "kernelspec": {
   "display_name": "Python 3",
   "language": "python",
   "name": "python3"
  },
  "language_info": {
   "codemirror_mode": {
    "name": "ipython",
    "version": 3
   },
   "file_extension": ".py",
   "mimetype": "text/x-python",
   "name": "python",
   "nbconvert_exporter": "python",
   "pygments_lexer": "ipython3",
   "version": "3.9.7"
  }
 },
 "nbformat": 4,
 "nbformat_minor": 5
}
